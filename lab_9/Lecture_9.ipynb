{
 "cells": [
  {
   "cell_type": "markdown",
   "metadata": {
    "slideshow": {
     "slide_type": "slide"
    }
   },
   "source": [
    "# Python w zastosowaniach naukowych  \n",
    "## Wykład 9\n",
    "### mgr inż. Maciej Kwiatkowski"
   ]
  },
  {
   "cell_type": "markdown",
   "metadata": {
    "slideshow": {
     "slide_type": "slide"
    }
   },
   "source": [
    "# Interfejs graficzny"
   ]
  },
  {
   "cell_type": "markdown",
   "metadata": {
    "slideshow": {
     "slide_type": "slide"
    }
   },
   "source": [
    "## Aplikacja"
   ]
  },
  {
   "cell_type": "markdown",
   "metadata": {
    "slideshow": {
     "slide_type": "fragment"
    }
   },
   "source": [
    "**Aplikacja** to samodzielny program służący do realizowania konkretnego zadania."
   ]
  },
  {
   "cell_type": "markdown",
   "metadata": {
    "slideshow": {
     "slide_type": "fragment"
    }
   },
   "source": [
    "Aplikację można podzielić (zgrubnie) na dwie warstwy:\n",
    "* komunikację z użytkownikiem (interfejs, *frontend*),\n",
    "* przetwarzanie informacji (logikę, *backend*)."
   ]
  },
  {
   "cell_type": "markdown",
   "metadata": {
    "slideshow": {
     "slide_type": "fragment"
    }
   },
   "source": [
    "**Implementacja warstw nie powinna być od siebie zależna** \n",
    "tzn. metody i atrybuty związane z wyświetlaniem nie powinny być umieszczone w logice i odwrotnie."
   ]
  },
  {
   "cell_type": "markdown",
   "metadata": {
    "slideshow": {
     "slide_type": "subslide"
    }
   },
   "source": [
    "### MVC"
   ]
  },
  {
   "cell_type": "markdown",
   "metadata": {
    "slideshow": {
     "slide_type": "fragment"
    }
   },
   "source": [
    "**MVC** (*Model - View - Controler*) to wzorzec architektoniczny zakładający podział aplikacji na 3 częsci: \n",
    "* **Model** - reprezentujący dane obsługiwane w programie. Model może być:\n",
    "    * *pasywny* - dane zmieniane są na skutek akcji kontrolera,\n",
    "    * *aktywny* - dane przechowywane w modelu mogą się zmienić niezależnie od działania użytkownika, co powoduję komunikację z odpowiednim kontrolerem,\n",
    "* **Widok** - odpowiedzialny za prezentację danych, może zmieniać stan modelu w zakresie związanym z prezentacją (ale nie dane). Może składać się z podwidoków.\n",
    "* **Kontroler** - odpowiedzialny za odbiór, przetworzenie i analizę danych wejściowych. Zależnie od danych wejściowych kontroler może:\n",
    "    * zmienić stan modelu,\n",
    "    * odświeżyć widok,\n",
    "    * przełączyć sterowanie na inny kontroler."
   ]
  },
  {
   "cell_type": "markdown",
   "metadata": {
    "slideshow": {
     "slide_type": "fragment"
    }
   },
   "source": [
    "Każda z częsci reprezentowana jest jako oddzielny obiekt, więc dostarcza swój interfejs. Oznacza to, że w klasie modelu powinniśmy mieć metody interakcji z danymi, ale publiczne metody modelu nie są wywoływane."
   ]
  },
  {
   "cell_type": "markdown",
   "metadata": {
    "slideshow": {
     "slide_type": "slide"
    }
   },
   "source": [
    "## GUI"
   ]
  },
  {
   "cell_type": "markdown",
   "metadata": {
    "slideshow": {
     "slide_type": "fragment"
    }
   },
   "source": [
    "**GUI** (*Graphical User Interface*) to określenie sposobu prezentacji informacji przez komputer oraz interakcji z użytkownikiem, polegającego na rysowaniu i obsługiwaniu widżetów (*widgets*). \n",
    "\n",
    "Innymi słowy są to wszystkie aplikacje okienkowe, w których wszystko można “wyklikać”."
   ]
  },
  {
   "cell_type": "markdown",
   "metadata": {
    "slideshow": {
     "slide_type": "fragment"
    }
   },
   "source": [
    "Z UI wiąże się jeszcze pojęcie **UX** (*User eXpreience*), czyli czytelności (wiem co), przejrzystości (wiem gdzie) i intuicyjności (wiem jak) interfejsu."
   ]
  },
  {
   "cell_type": "markdown",
   "metadata": {
    "slideshow": {
     "slide_type": "fragment"
    }
   },
   "source": [
    "Dobry UX można streścić do stwierdzenia: \"Dobry interfejs jest jak dobry żart: nie trzeba go tłumaczyć\"."
   ]
  },
  {
   "cell_type": "markdown",
   "metadata": {
    "slideshow": {
     "slide_type": "subslide"
    }
   },
   "source": [
    "### Widżet"
   ]
  },
  {
   "cell_type": "markdown",
   "metadata": {
    "slideshow": {
     "slide_type": "fragment"
    }
   },
   "source": [
    "Widżet jest elementem GUI umożliwiającym komunikację programu z użytkownikiem. \n",
    "\n",
    "Widżetowi przypisuje się pewien prostokąt na ekranie o określonym położeniu i wymiarach (w pikselach). "
   ]
  },
  {
   "cell_type": "markdown",
   "metadata": {
    "slideshow": {
     "slide_type": "fragment"
    }
   },
   "source": [
    "Funkcje widżetów:\n",
    "* przekazywanie do programu danych lub poleceń użytkownika (**wejścia**),\n",
    "* wizualizacja danych lub informacji o stanie programu (**wyjścia**),\n",
    "* zarządzanie innymi widżetami (**widżety pojemnikowe**)."
   ]
  },
  {
   "cell_type": "markdown",
   "metadata": {
    "slideshow": {
     "slide_type": "subslide"
    }
   },
   "source": [
    "* **Wejścia**: przycisk (*button*), wejście tekstowe/linijka\n",
    "(*entry*), pole tekstowe (*text*), przycisk wyboru (*checkbox*), przycisk wyłącznego wyboru (*radio button*),\n",
    "* **Wyjścia**: etykieta (*label*), pasek postępu (*progress bar*), okienko wiadomości (*message box*),\n",
    "* **Wejścia-wyjścia**: lista wyboru (*listbox*), płótno (*canvas*), okienko dialogowe (*dialogue box*), suwak (*scrollbar*).\n",
    "* **Pojemniki**: ramka (*frame*), okienko (*top level*), menu (*menu*)."
   ]
  },
  {
   "cell_type": "markdown",
   "metadata": {
    "slideshow": {
     "slide_type": "slide"
    }
   },
   "source": [
    "## Tkinter"
   ]
  },
  {
   "cell_type": "markdown",
   "metadata": {
    "slideshow": {
     "slide_type": "fragment"
    }
   },
   "source": [
    "Biblioteka widzetów **Tk** wywodzi się z języka **Tool Command Language (Tcl)** stworzonego w w późnych latach 80 ubiegłego wieku przez Johna Ousterhout na uniwerytecie Berkeley. Pierwotnie stworzona na pratformie Unix dzięki swojej prostocie została spopularyzowana na pozostałem duże platformy (macOS i Windows)."
   ]
  },
  {
   "cell_type": "markdown",
   "metadata": {
    "slideshow": {
     "slide_type": "fragment"
    }
   },
   "source": [
    "**Tkinter** jest modułem zawierającym interfejs do biblioteki Tk. Do jego głównych zalet należą:\n",
    "* jest biblioteką standardową,\n",
    "* jest stabilny - API nie podlega częstym zmianom,\n",
    "* dostarcza narzędzia tylko do tworzenia GUI - zarządzanie wątkami, systemem plików etc. może być zrealizowane w dowolny sposób,\n",
    "* jest prosty - znając podstawy programowania obiektowego można stworzyć rozbudowane GUI."
   ]
  },
  {
   "cell_type": "markdown",
   "metadata": {
    "slideshow": {
     "slide_type": "fragment"
    }
   },
   "source": [
    "### Przykłady"
   ]
  },
  {
   "cell_type": "markdown",
   "metadata": {
    "slideshow": {
     "slide_type": "fragment"
    }
   },
   "source": [
    "Demo wbudowane w moduł"
   ]
  },
  {
   "cell_type": "code",
   "execution_count": null,
   "metadata": {
    "slideshow": {
     "slide_type": "fragment"
    }
   },
   "outputs": [],
   "source": [
    "%%bash\n",
    "python -m tkinter"
   ]
  },
  {
   "cell_type": "code",
   "execution_count": null,
   "metadata": {
    "slideshow": {
     "slide_type": "subslide"
    }
   },
   "outputs": [],
   "source": [
    "import tkinter as tk\n",
    "\n",
    "# definicja pojedynczego pojemnika\n",
    "class DestroyableFrame(tk.Frame):\n",
    "    def __init__(self, master=None):\n",
    "        super().__init__(master)\n",
    "        self.grid() # umiejscowienie widżetu\n",
    "        self.createWidgets()\n",
    "\n",
    "    def createWidgets(self):\n",
    "        self.quitButton = tk.Button(\n",
    "            self, \n",
    "            text='Quit',\n",
    "            command=self.master.destroy,\n",
    "        )\n",
    "        self.quitButton.grid()\n",
    "\n",
    "app = DestroyableFrame()  # instancja aplikacji nie powoduje jej uruchomienia\n",
    "app.master.title('Sample application') \n",
    "app.mainloop()  # dopiero uruchomienie go w pętli pozwala oknu się pojawić"
   ]
  },
  {
   "cell_type": "markdown",
   "metadata": {
    "slideshow": {
     "slide_type": "fragment"
    }
   },
   "source": [
    "Na powyższym przykładzie można zobaczyć schemat tworzenia zbiornika w Tkinterze. Składa się on z:\n",
    "* Obowiązkwo:\n",
    "    * zdefiniowania pojemnika \n",
    "    * narysowania pojemnika (tu metoda `grid`)\n",
    "* Dodatkowo:\n",
    "    * dodanie widżetów dzieci\n",
    "    * powiązania widżetów ze sobą"
   ]
  },
  {
   "cell_type": "markdown",
   "metadata": {
    "slideshow": {
     "slide_type": "fragment"
    }
   },
   "source": [
    "Tak stworzony zbiornik można albo wykorzystać jako element składowy albo jako samodzielne okno. Jeżeli zdecydujemy się użyć go jako okno ważne jest żeby:\n",
    "* posiadać referencję do tego obiektu,\n",
    "* uruchomić go w pętli."
   ]
  },
  {
   "cell_type": "markdown",
   "metadata": {
    "slideshow": {
     "slide_type": "fragment"
    }
   },
   "source": [
    "Dlaczego ważne jest posiadanie referencji do głównego obiektu? Wszystkie pozostałe obiekty znajdujące się wewnątrz widżetu są ze sobą powiązane poprzez relację rodzic-dziecko (odpowiednio atrybuty `master` i `children`) dlatego nawet jeżeli nie przypiszemy widżetu do zmiennej to podany przy tworzeniu rodzic (pierwszy parametr konstruktora) będzie przechowywał referencję do widżetu."
   ]
  },
  {
   "cell_type": "markdown",
   "metadata": {
    "slideshow": {
     "slide_type": "subslide"
    }
   },
   "source": [
    "### Zamknięcie okna a zamknięcie widżetu"
   ]
  },
  {
   "cell_type": "markdown",
   "metadata": {
    "slideshow": {
     "slide_type": "fragment"
    }
   },
   "source": [
    "W poprzednim przykładzie mieliśmy dwie możliwości zamknięcia okna:\n",
    "* zamknięcie okna na poziomie kernela graficznego (krzyżyk w belce okna),\n",
    "* zamknięcie za pomocą przycisku wewnątrz okna (przycisk \"Quit\")."
   ]
  },
  {
   "cell_type": "markdown",
   "metadata": {
    "slideshow": {
     "slide_type": "fragment"
    }
   },
   "source": [
    "To druga metoda odwoływała się do rodzica i na nim wywoływała metodę `destroy`. Co jest w tym przypadku rodzicem? Obiekt ramki. Pytanie czy użycie instancji `QuitFrame` jako elementu większego okna da podobny efekt?"
   ]
  },
  {
   "cell_type": "code",
   "execution_count": null,
   "metadata": {
    "slideshow": {
     "slide_type": "fragment"
    }
   },
   "outputs": [],
   "source": [
    "import tkinter as tk\n",
    "\n",
    "window = tk.Frame()\n",
    "window.grid()\n",
    "DestroyableFrame(window)\n",
    "DestroyableFrame(window)\n",
    "# te komendy tworzą już nowe okno\n",
    "window.mainloop()\n",
    "DestroyableFrame().mainloop()"
   ]
  },
  {
   "cell_type": "markdown",
   "metadata": {
    "slideshow": {
     "slide_type": "fragment"
    }
   },
   "source": [
    "Zniknęły wszystkie przyciski, ale proces wciąż działał. Wynika to z faktu, że wywołanie pętli wyświetlania tworzy (lub korzysta z instniejącej) instancji obiektu `tk.Tk`, który jest faktycznym **głównym oknem** aplikacji (powinna stworzona być tylko jedna). Dopiero zniszczenie tego obiektu (metoda `destroy`) przerywa proces wyświetlania okna."
   ]
  },
  {
   "cell_type": "markdown",
   "metadata": {
    "slideshow": {
     "slide_type": "fragment"
    }
   },
   "source": [
    "Instnieje jeszcze metoda `quit`, która zawiesza wyświetlanie okna, ale go nie usuwa. Przerwanie wyświetlania powoduje dalsze wykonanie kodu, i wraca do istniejącego okna przy kolejnym uruchomieniu pętli wyświetlania.  "
   ]
  },
  {
   "cell_type": "code",
   "execution_count": null,
   "metadata": {},
   "outputs": [],
   "source": [
    "import tkinter as tk\n",
    "\n",
    "class QuitFrame(QuitFrame):\n",
    "    def createWidgets(self):\n",
    "        self.quitButton = tk.Button(\n",
    "            self, \n",
    "            text='Quit',\n",
    "            command=self.master.quit,\n",
    "        )\n",
    "        self.quitButton.grid()\n",
    "\n",
    "app = QuitFrame()\n",
    "app.master.title('Sample application') \n",
    "app.mainloop()\n",
    "print('Kod wykonuje się dalej')\n",
    "app.mainloop()\n",
    "app.master.destroy()"
   ]
  },
  {
   "cell_type": "markdown",
   "metadata": {
    "slideshow": {
     "slide_type": "fragment"
    }
   },
   "source": [
    "Widżet jest elementem GUI umożliwiającym komunikację programu z użytkownikiem. \n",
    "\n",
    "Widżetowi przypisuje się pewien prostokąt na ekranie o określonym położeniu i wymiarach (w pikselach). "
   ]
  },
  {
   "cell_type": "markdown",
   "metadata": {
    "slideshow": {
     "slide_type": "fragment"
    }
   },
   "source": [
    "Funkcje widżetów:\n",
    "* przekazywanie do programu danych lub poleceń użytkownika (**wejścia**),\n",
    "* wizualizacja danych lub informacji o stanie programu (**wyjścia**),\n",
    "* zarządzanie innymi widżetami (**widżety pojemnikowe**)."
   ]
  },
  {
   "cell_type": "markdown",
   "metadata": {
    "slideshow": {
     "slide_type": "subslide"
    }
   },
   "source": [
    "* **Wejścia**: przycisk (*button*), wejście tekstowe/linijka\n",
    "(*entry*), pole tekstowe (*text*), przycisk wyboru (*checkbox*), przycisk wyłącznego wyboru (*radio button*),\n",
    "* **Wyjścia**: etykieta (*label*), pasek postępu (*progress bar*), okienko wiadomości (*message box*),\n",
    "* **Wejścia-wyjścia**: lista wyboru (*listbox*), płótno (*canvas*), okienko dialogowe (*dialogue box*), suwak (*scrollbar*).\n",
    "* **Pojemniki**: ramka (*frame*), okienko (*top level*), menu (*menu*)."
   ]
  },
  {
   "cell_type": "markdown",
   "metadata": {
    "slideshow": {
     "slide_type": "subslide"
    }
   },
   "source": [
    "### Rozmieszczanie widżetów"
   ]
  },
  {
   "cell_type": "markdown",
   "metadata": {
    "slideshow": {
     "slide_type": "fragment"
    }
   },
   "source": [
    "Rsyowanie widżetu odbywa się za pomocą jednej z trzech metod: `grid` (ułóż na siatce), `pack` (upchnij), `place` (umieść) i te nazwy bardzo dobrze opisują sposób rozmieszczenia obiektu:\n",
    "* `grid` - zakłada że widżet można umieścić w którejść komórce macierzy (domyślnie w pierwszej kolumnie w kolenych wierszach). Istnieje możliwość rozciągania obiektu między kilka komórek (`span`).\n",
    "* `pack` - dodaje elemnty kolejno w zadanym kierunku (`side`, domyślnie od góry do dołu).\n",
    "* `place` - doadaje widżet w dokładnie określonym miejscu (stosować tylko w przypadku umieszczania elementu w konkretnym miejscu)."
   ]
  },
  {
   "cell_type": "markdown",
   "metadata": {
    "slideshow": {
     "slide_type": "fragment"
    }
   },
   "source": [
    "**UWAGA**: Używając geometrii siatki, nie można już umieszczać elemnetów przez upychanie i odwrotnie!"
   ]
  },
  {
   "cell_type": "code",
   "execution_count": null,
   "metadata": {
    "slideshow": {
     "slide_type": "fragment"
    }
   },
   "outputs": [],
   "source": [
    "import tkinter as tk\n",
    "\n",
    "class MixedGeometryFrame(tk.Frame):\n",
    "    def __init__(self, *args, **kwargs):\n",
    "        # główne okno aplikacji\n",
    "        super().__init__(*args, **kwargs)\n",
    "        self.pack(expand=True, fill=tk.BOTH)\n",
    "        \n",
    "        # okno rysowane przez upychanie\n",
    "        f1 = tk.Frame(self)\n",
    "        f1.pack(side=tk.TOP, fill=tk.BOTH)\n",
    "        tk.Label(f1, text=\"Red\", bg=\"red\", fg=\"white\").pack(fill=tk.X)\n",
    "        tk.Label(f1, text=\"Green\", bg=\"green\", fg=\"black\").pack(fill=tk.X)\n",
    "        tk.Label(f1, text=\"Blue\", bg=\"blue\", fg=\"white\").pack(fill=tk.X)\n",
    "        \n",
    "        # okno rysowane na siatce\n",
    "        f2 = tk.Frame(self)\n",
    "        f2.pack(side=tk.BOTTOM)\n",
    "        tk.Label(f2, text=\"First\").grid(row=0, sticky=tk.W)\n",
    "        tk.Label(f2, text=\"Second\").grid(row=1, sticky=tk.W)\n",
    "\n",
    "        e1 = tk.Entry(f2)\n",
    "        e2 = tk.Entry(f2)\n",
    "        e1.grid(row=0, column=1)\n",
    "        e2.grid(row=1, column=1)\n",
    "        \n",
    "MixedGeometryFrame().mainloop()"
   ]
  },
  {
   "cell_type": "markdown",
   "metadata": {
    "slideshow": {
     "slide_type": "subslide"
    }
   },
   "source": [
    "### Zdarzenia w aplikacji"
   ]
  },
  {
   "cell_type": "markdown",
   "metadata": {
    "slideshow": {
     "slide_type": "fragment"
    }
   },
   "source": [
    "#### Zdarzenia uruchamiane przez widżet"
   ]
  },
  {
   "cell_type": "markdown",
   "metadata": {
    "slideshow": {
     "slide_type": "fragment"
    }
   },
   "source": [
    "Część widżetów może mieć zdefiniowaną akcję, w momencie wejścia w interakcję z nim (wciśnięcie przycisku, przesunięcie suwaka, itp.). Funkcję te definiujemy w parametrze `command` widżetu.\n",
    "\n",
    "**UWAGA** Przypisujemy funkcję, nie wywołanie funkcji!\n",
    "\n",
    "**UWAGA 2** Ponieważ przypisujemy funkcję, nie wywołanie, jeżeli chcemy do funkcji przekazać niezwiązane z Tkinterem paramtry, musimy to zrobić przypisując \"funkcję\" do parametru `command`. Parametry takie możemy zdefiniować za pomocą funckji `functools.partial`."
   ]
  },
  {
   "cell_type": "markdown",
   "metadata": {
    "slideshow": {
     "slide_type": "subslide"
    }
   },
   "source": [
    "#### Kontrolki "
   ]
  },
  {
   "cell_type": "markdown",
   "metadata": {
    "slideshow": {
     "slide_type": "fragment"
    }
   },
   "source": [
    "Tkinter posiada kontrolki (*control variable*), które rozszerzają funckjonalność zwykłej zmiennej o możliwość powiązania jej stanu z widżetem. Powiązanie to jest relaizowane za pomocą gettera i settera, który odpowiednio pozwala na pobranie obecnej wartości z widżetu lub nadpisanie wartości kontrolki przez widżet."
   ]
  },
  {
   "cell_type": "markdown",
   "metadata": {
    "slideshow": {
     "slide_type": "fragment"
    }
   },
   "source": [
    "Powiązanie może odbywać się również na zmianie wartości kontrolki. Możliwymi zdarzeniami są:\n",
    "* odczyt (`r`),\n",
    "* zapis (`w`),\n",
    "* usunięcie(`u`)."
   ]
  },
  {
   "cell_type": "code",
   "execution_count": null,
   "metadata": {
    "slideshow": {
     "slide_type": "fragment"
    }
   },
   "outputs": [],
   "source": [
    "import tkinter as tk\n",
    "\n",
    "root = tk.Frame()\n",
    "root.pack()\n",
    "my_variable = tk.StringVar()\n",
    "\n",
    "def trace_when_my_variable_written(*_):\n",
    "    print (f\"Traced variable {my_variable.get()}\")\n",
    "\n",
    "    \n",
    "# Podłączenie funckji do zmiennej - tzw. obserwator\n",
    "my_variable.trace_variable(\"w\", trace_when_my_variable_written)\n",
    "\n",
    "# Powiązanie kontrolki\n",
    "tk.Label(root, textvariable = my_variable).pack(padx=5, pady=5)\n",
    "tk.Entry(root, textvariable = my_variable).pack(padx=5, pady=5)\n",
    "\n",
    "root.mainloop()"
   ]
  },
  {
   "cell_type": "markdown",
   "metadata": {
    "slideshow": {
     "slide_type": "subslide"
    }
   },
   "source": [
    "#### Zdarzenia pochodzące z peryferiów"
   ]
  },
  {
   "cell_type": "markdown",
   "metadata": {
    "slideshow": {
     "slide_type": "fragment"
    }
   },
   "source": [
    "Przez peryferia określa się np. klawiaturę i myszkę. Zdarzenia (*event*) od nich pochodzące (wciśnięcie przycisku na klawiaturze, najechanie kursorem) można przypisać (*bind*) do funkcji wykonującej (*handlera*) na trzy sposoby:\n",
    "* do widżetu `canv.bind('<Button-2>', _drawOrangeBlob)`\n",
    "* do klasy widzetów `frame.bind_class('<Button-2>', _drawOrangeBlob)`\n",
    "* na poziomie aplikacji `window.bind('<Key-Print>', _printScreen)`\n",
    "\n",
    "Gdzie: \n",
    "* `canv`, `frame`, `window` to widżety,\n",
    "* `_drawOrangeBlob`, `_printScreen` to nazwy przypisywanych funkcji,\n",
    "* `<Button-2>`, `<Key-Print>` przechwytywane zmienne"
   ]
  },
  {
   "cell_type": "code",
   "execution_count": null,
   "metadata": {
    "slideshow": {
     "slide_type": "fragment"
    }
   },
   "outputs": [],
   "source": [
    "import tkinter as tk\n",
    "\n",
    "def key(event):\n",
    "    print(\"pressed\", repr(event.char))\n",
    "\n",
    "def callback(event):\n",
    "    frame.focus_set()\n",
    "    print(\"clicked at\", event.x, event.y)\n",
    "\n",
    "frame = tk.Frame(width=100, height=100)\n",
    "frame.bind(\"<Key>\", key)\n",
    "frame.bind(\"<Button-1>\", callback)\n",
    "frame.pack()\n",
    "\n",
    "frame.mainloop()"
   ]
  },
  {
   "cell_type": "markdown",
   "metadata": {
    "slideshow": {
     "slide_type": "subslide"
    }
   },
   "source": [
    "### Stylowanie widżetów"
   ]
  },
  {
   "cell_type": "markdown",
   "metadata": {
    "slideshow": {
     "slide_type": "fragment"
    }
   },
   "source": [
    "Możliew są dwa podejścia do zmieniania stylizacji widżetów:\n",
    "* podając atrybuty do widżetów (np. `fg` oznaczający kolor czcionki) z głównego modułu `tkinter`,\n",
    "* Korzystać z widżetów zdefiniowanych w podmodule `tkinter.ttk`, w których zamiast atrybutów definiuje się obiekt stylu, który nadaje się widżetowi. W tym przypadku widżety nie mają atrybutów odpowiadających za stylowanie."
   ]
  },
  {
   "cell_type": "code",
   "execution_count": null,
   "metadata": {
    "slideshow": {
     "slide_type": "fragment"
    }
   },
   "outputs": [],
   "source": [
    "import tkinter as tk\n",
    "\n",
    "frame = tk.Frame(width=100, height=100)\n",
    "tk.Label(frame, text=\"Test\", fg=\"black\", bg=\"white\").pack()\n",
    "tk.Label(frame, text=\"Test\", fg=\"black\", bg=\"white\").pack()\n",
    "frame.pack()\n",
    "\n",
    "frame.mainloop()"
   ]
  },
  {
   "cell_type": "code",
   "execution_count": null,
   "metadata": {
    "slideshow": {
     "slide_type": "fragment"
    }
   },
   "outputs": [],
   "source": [
    "from tkinter import ttk\n",
    "\n",
    "# Obiekt stylu\n",
    "style = ttk.Style()\n",
    "style.configure(\"BW.TLabel\", foreground=\"black\", background=\"white\")\n",
    "\n",
    "frame = tk.Frame(width=100, height=100)\n",
    "frame.pack()\n",
    "ttk.Label(frame, text=\"Test\", style=\"BW.TLabel\").pack()\n",
    "ttk.Label(frame, text=\"Test\", style=\"BW.TLabel\").pack()\n",
    "\n",
    "frame.mainloop()"
   ]
  },
  {
   "cell_type": "markdown",
   "metadata": {
    "slideshow": {
     "slide_type": "subslide"
    }
   },
   "source": [
    "### Osadzanie wykresu"
   ]
  },
  {
   "cell_type": "code",
   "execution_count": null,
   "metadata": {},
   "outputs": [],
   "source": [
    "import tkinter as tk\n",
    "\n",
    "import numpy as np\n",
    "import matplotlib as mpl\n",
    "import matplotlib.pyplot as plt\n",
    "from matplotlib.backends.backend_tkagg import (\n",
    "    FigureCanvasTkAgg, \n",
    "    NavigationToolbar2Tk,\n",
    ")\n",
    "# Domyślne przypisanie przycisków do wykresu\n",
    "from matplotlib.backend_bases import key_press_handler\n",
    "\n",
    "\n",
    "root = tk.Frame()\n",
    "root.pack()\n",
    "\n",
    "# Standardowe rysowanie wykresu\n",
    "fig = plt.Figure(figsize=(5, 4), dpi=100)\n",
    "x = np.arange(0, 3, .01)\n",
    "fig.add_subplot().plot(x, 2 * np.sin(2 * np.pi * x))\n",
    "\n",
    "#  Stworzenie obszaru rysowania\n",
    "canvas = FigureCanvasTkAgg(fig, master=root)\n",
    "canvas_widget = canvas.get_tk_widget()\n",
    "canvas.draw()\n",
    "canvas_widget.pack(side=tk.TOP, fill=tk.BOTH, expand=1)\n",
    "\n",
    "toolbar = NavigationToolbar2Tk(canvas, root)\n",
    "toolbar.update()\n",
    "canvas_widget.pack(side=tk.TOP, fill=tk.BOTH, expand=1)\n",
    "\n",
    "# Połączenie zdarzenia wciśnięcia przycisku klawiatury z wykresem\n",
    "def on_key_press(event):\n",
    "    print(\"you pressed {}\".format(event.key))\n",
    "    key_press_handler(event, canvas, toolbar)\n",
    "\n",
    "\n",
    "canvas.mpl_connect(\"key_press_event\", on_key_press)\n",
    "\n",
    "button = tk.Button(master=root, text=\"Quit\", command=root.master.destroy)\n",
    "button.pack(side=tk.BOTTOM)\n",
    "\n",
    "root.master.title(\"Embedding in Tk\")\n",
    "root.mainloop()"
   ]
  },
  {
   "cell_type": "markdown",
   "metadata": {
    "slideshow": {
     "slide_type": "subslide"
    }
   },
   "source": [
    "### Problemy z obrazkami"
   ]
  },
  {
   "cell_type": "markdown",
   "metadata": {
    "slideshow": {
     "slide_type": "fragment"
    }
   },
   "source": [
    "Moduł domyślnie posiada dwie klasy do wyświetlania obrazu:\n",
    "* `tk.BitmapImage` wspierający format `.xbm` (*X BitMap*),\n",
    "* `tk.PhotoImage` wspierający formaty `.gif`, `.pgm` (*Portable GrayMap*) i `ppm` (*Portable PixleMap*),\n",
    "które nie są aż tak popularnymi formatami."
   ]
  },
  {
   "cell_type": "markdown",
   "metadata": {
    "slideshow": {
     "slide_type": "fragment"
    }
   },
   "source": [
    "W celu wykorzystania grafiki w innym formacie niż powyższe, musimy skorzystać z modułu PIL (*Python Imaging Library*), który obecnie rozwijany jest pod nazwą *Pillow* (który to projekt jest forkiem od PIL...)."
   ]
  },
  {
   "cell_type": "markdown",
   "metadata": {
    "slideshow": {
     "slide_type": "fragment"
    }
   },
   "source": [
    "Instalacja: `pip install Pillow`"
   ]
  },
  {
   "cell_type": "code",
   "execution_count": null,
   "metadata": {},
   "outputs": [],
   "source": [
    "import sys\n",
    "\n",
    "from PIL import Image, ImageTk\n",
    "import tkinter as tk\n",
    "\n",
    "class Example(tk.Frame):\n",
    "  \n",
    "    def __init__(self):\n",
    "        super().__init__()   \n",
    "         \n",
    "        self.load_image() \n",
    "        self.init_ui()\n",
    "        \n",
    "        \n",
    "    def load_image(self):\n",
    "        try:\n",
    "            self.img = Image.open(\"images/matplotlib_gig_parts.png\")\n",
    "        except IOError:\n",
    "            print(\"Unable to load image\")\n",
    "            self.master.destroy()\n",
    "    \n",
    "    def init_ui(self):\n",
    "      \n",
    "        self.master.title(\"Label\")\n",
    "        \n",
    "        tatras = ImageTk.PhotoImage(self.img)\n",
    "        label = tk.Label(self, image=tatras)\n",
    "        # UWAGA: referencja do obrazka musi być dodana jawnie \n",
    "        label.image = tatras\n",
    "        \n",
    "        label.pack()\n",
    "        self.pack()\n",
    "        \n",
    "ex = Example()\n",
    "ex.pack()\n",
    "ex.mainloop()"
   ]
  },
  {
   "cell_type": "markdown",
   "metadata": {
    "slideshow": {
     "slide_type": "slide"
    }
   },
   "source": [
    "## Źródła"
   ]
  },
  {
   "cell_type": "markdown",
   "metadata": {
    "slideshow": {
     "slide_type": "fragment"
    }
   },
   "source": [
    "* [MVC - Wikipedia](https://pl.wikipedia.org/wiki/Model-View-Controller)\n",
    "* [Dokumentacja modułu](https://docs.python.org/3/library/tkinter.html#module-tkinter)\n",
    "* [Tkinterbook](http://effbot.org/tkinterbook/)\n",
    "* [Tkinter 8.5 reference](https://web.archive.org/web/20190510060459/http://infohost.nmt.edu/tcc/help/pubs/tkinter/web/index.html)\n",
    "* [*Tkinter GUI Application Development Blueprints*, Bhaskar Chaudhary, 2015 PACKT](https://subscription.packtpub.com/book/application_development/9781785889738)\n",
    "* [Zagnieżdżanie wykresu](https://matplotlib.org/3.1.0/gallery/user_interfaces/embedding_in_tk_sgskip.html)"
   ]
  }
 ],
 "metadata": {
  "celltoolbar": "Slideshow",
  "kernelspec": {
   "display_name": "Python 3",
   "language": "python",
   "name": "python3"
  },
  "language_info": {
   "codemirror_mode": {
    "name": "ipython",
    "version": 3
   },
   "file_extension": ".py",
   "mimetype": "text/x-python",
   "name": "python",
   "nbconvert_exporter": "python",
   "pygments_lexer": "ipython3",
   "version": "3.7.4"
  },
  "rise": {
   "scroll": true,
   "theme": "serif"
  }
 },
 "nbformat": 4,
 "nbformat_minor": 2
}
